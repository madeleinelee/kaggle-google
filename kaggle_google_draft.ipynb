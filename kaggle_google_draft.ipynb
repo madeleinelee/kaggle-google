{
  "nbformat": 4,
  "nbformat_minor": 0,
  "metadata": {
    "colab": {
      "name": "kaggle google draft.ipynb",
      "version": "0.3.2",
      "provenance": []
    },
    "kernelspec": {
      "name": "python3",
      "display_name": "Python 3"
    },
    "accelerator": "GPU"
  },
  "cells": [
    {
      "cell_type": "markdown",
      "metadata": {
        "id": "view-in-github",
        "colab_type": "text"
      },
      "source": [
        "[View in Colaboratory](https://colab.research.google.com/github/madeleinelee/kaggle-google/blob/master/kaggle_google_draft.ipynb)"
      ]
    },
    {
      "metadata": {
        "id": "6vf66VU9SMPo",
        "colab_type": "code",
        "colab": {}
      },
      "cell_type": "code",
      "source": [
        "     !pip install -U -q PyDrive ## you will have install for every colab session\n",
        "\n",
        "     from pydrive.auth import GoogleAuth\n",
        "     from pydrive.drive import GoogleDrive\n",
        "     from google.colab import auth\n",
        "     from oauth2client.client import GoogleCredentials\n",
        "\n",
        "     # 1. Authenticate and create the PyDrive client.\n",
        "     auth.authenticate_user()\n",
        "     gauth = GoogleAuth()\n",
        "     gauth.credentials = GoogleCredentials.get_application_default()\n",
        "     drive = GoogleDrive(gauth)\n",
        "   "
      ],
      "execution_count": 0,
      "outputs": []
    },
    {
      "metadata": {
        "id": "AikzruhJnRjl",
        "colab_type": "code",
        "colab": {}
      },
      "cell_type": "code",
      "source": [
        "import pip \n",
        "import csv\n",
        "csv_import = drive.CreateFile({'id':'1kXO-K9_gTImfoniptj_CywXCFzws7kSF'})\n",
        "csv_import.GetContentFile('test.csv')\n",
        "\n"
      ],
      "execution_count": 0,
      "outputs": []
    },
    {
      "metadata": {
        "id": "Of_R8gDmxyPZ",
        "colab_type": "code",
        "colab": {
          "base_uri": "https://localhost:8080/",
          "height": 1105
        },
        "outputId": "2504fc13-1aa0-41a4-92b0-20826d8fe7dd"
      },
      "cell_type": "code",
      "source": [
        "import pandas as pd\n",
        "df = pd.read_csv('test.csv')\n",
        "print(df)"
      ],
      "execution_count": 63,
      "outputs": [
        {
          "output_type": "stream",
          "text": [
            "                      id                                                url\n",
            "0       000088da12d664db  https://lh3.googleusercontent.com/-k45wfamuhT8...\n",
            "1       0001623c6d808702  https://lh3.googleusercontent.com/-OQ0ywv8KVIA...\n",
            "2       0001bbb682d45002  https://lh3.googleusercontent.com/-kloLenz1xZk...\n",
            "3       0002362830cfe3a3  https://lh3.googleusercontent.com/-N6z79jNZYTg...\n",
            "4       000270c9100de789  https://lh3.googleusercontent.com/-keriHaVOq1U...\n",
            "5       0002b0fab5d3ccc4  https://lh3.googleusercontent.com/-ciWklpsrab8...\n",
            "6       000396be3c24830a  https://lh3.googleusercontent.com/-6W9F179t59Q...\n",
            "7       000506dc6ab3a40e  https://lh3.googleusercontent.com/-_XHsAXB2LZA...\n",
            "8       0005292fc4b005a3  https://lh3.googleusercontent.com/-RBZ4F1ZKNc0...\n",
            "9       0005456a82264bc8  https://lh3.googleusercontent.com/-MRK7_uiKO6A...\n",
            "10      00055cf2bfb5594a  https://lh3.googleusercontent.com/-05j3pWNM-Xs...\n",
            "11      000664eed4a70821  https://lh3.googleusercontent.com/-leF7EIF_wAA...\n",
            "12      0006aea5b6f4eaaa  https://lh3.googleusercontent.com/-xtRc58tSwf8...\n",
            "13      0006bbfa00dd6c0f  https://lh3.googleusercontent.com/-wR09UThTiMM...\n",
            "14      0008aee1c0abed9d  https://lh3.googleusercontent.com/-NHH4ni5OXco...\n",
            "15      0008de5f3c25d563  https://lh3.googleusercontent.com/-y4PP15jT_eU...\n",
            "16      00094466c9f054f4  https://lh3.googleusercontent.com/-AbzwBhs3ELk...\n",
            "17      0009f09a69405693  https://lh3.googleusercontent.com/-KGZBdf69p-I...\n",
            "18      000a7f4a25af7558  https://lh3.googleusercontent.com/-fQSqtaWN_5A...\n",
            "19      000a9180e4dc8705  https://lh3.googleusercontent.com/-1fn2uFbifCY...\n",
            "20      000aee511bc53f8b  https://lh3.googleusercontent.com/-1jphKlgrYrY...\n",
            "21      000b55ddc1160a12  https://lh3.googleusercontent.com/-AjwPX9KwYnM...\n",
            "22      000c08916d77b8ba  https://lh3.googleusercontent.com/-laXvFg-7Bho...\n",
            "23      000c2a80838aabff  https://lh3.googleusercontent.com/-va7iCBpgrr4...\n",
            "24      000dad8a776a3631  https://lh3.googleusercontent.com/-msZDW4dNwx4...\n",
            "25      000e30f1e5b32741  https://lh3.googleusercontent.com/-3pC8jIAiXKE...\n",
            "26      000e47a43eb8a307  https://lh3.googleusercontent.com/-g-LKisKsl_8...\n",
            "27      00108ec72b2344bd  https://lh3.googleusercontent.com/-XBIVaHIi44A...\n",
            "28      0010ab920bac8640  https://lh3.googleusercontent.com/-WUYvoHWeOCc...\n",
            "29      0010e7cad366d6fa  https://lh3.googleusercontent.com/-IjqS44Qf5bI...\n",
            "...                  ...                                                ...\n",
            "117673  fff20cf29ee585da  https://lh3.googleusercontent.com/-ZruMxLGd1lY...\n",
            "117674  fff228be319ee860  https://lh3.googleusercontent.com/-fbYxrTgJFXs...\n",
            "117675  fff2a679829794e5  https://lh3.googleusercontent.com/-QFqsGDJmoUU...\n",
            "117676  fff46e8af33ac538  https://lh3.googleusercontent.com/-5__2sQu5shM...\n",
            "117677  fff4deb617803fa6  https://lh3.googleusercontent.com/-feELD337m8U...\n",
            "117678  fff4e49536a3b50f  https://lh3.googleusercontent.com/-1E_FsgCQLzQ...\n",
            "117679  fff67ee3e4aa6603  https://lh3.googleusercontent.com/-E2gO4KYaAk4...\n",
            "117680  fff722fdb8d5ee5c  https://lh3.googleusercontent.com/-eBpGwryD4hk...\n",
            "117681  fff75a490e014c49  https://lh3.googleusercontent.com/-SrhkGfPvakY...\n",
            "117682  fff7911054054cba  https://lh3.googleusercontent.com/-ItZ7Vjsbctg...\n",
            "117683  fff7dd6b72e348c1  https://lh3.googleusercontent.com/-0L_gepf1ihE...\n",
            "117684  fff89aab5ca0ffaa  https://lh3.googleusercontent.com/-VDtkc335X5Q...\n",
            "117685  fff8a7beae129480  https://lh3.googleusercontent.com/-Jnl3YpLwEvU...\n",
            "117686  fff9c506c5c34ed5  https://lh3.googleusercontent.com/-Ap2UPEYpmQ8...\n",
            "117687  fffa1180a488b864  https://lh3.googleusercontent.com/-k-YJ1AO33qg...\n",
            "117688  fffa6c89314aa675  https://lh3.googleusercontent.com/-r9VsSgkKlLA...\n",
            "117689  fffad9311dc8803e  https://lh3.googleusercontent.com/-6SGG7mNciG0...\n",
            "117690  fffadbb8c2e69651  https://lh3.googleusercontent.com/-gO02tSLwW2M...\n",
            "117691  fffba89fd874980b  https://lh3.googleusercontent.com/-lkos9fkfAjk...\n",
            "117692  fffbf40d8b1bae4a  https://lh3.googleusercontent.com/-3xCCfXuB7ys...\n",
            "117693  fffc2bd3256e355b  https://lh3.googleusercontent.com/-RREQEq10ze4...\n",
            "117694  fffd25c399a01768  https://lh3.googleusercontent.com/-XXG85OqQDE8...\n",
            "117695  fffd83d581141754  https://lh3.googleusercontent.com/--p5Cnl29aNw...\n",
            "117696  fffe111bbd323a8c  https://lh3.googleusercontent.com/-ztSMOkMOcYI...\n",
            "117697  fffe1eb76fe6bd94  https://lh3.googleusercontent.com/-ivjlb8yoHZY...\n",
            "117698  fffecaa7a64a1649  https://lh3.googleusercontent.com/-FHoveAvWkLA...\n",
            "117699  ffff1a051dab1f7a  https://lh3.googleusercontent.com/-RUA3eMNNuT0...\n",
            "117700  ffff2f7b0f69b804  https://lh3.googleusercontent.com/-Riwkeos_42U...\n",
            "117701  ffff5d1e486c7226  https://lh3.googleusercontent.com/-VZX_UxKRlXU...\n",
            "117702  ffffd526f7e18b49  https://lh3.googleusercontent.com/-RICzgy2caZw...\n",
            "\n",
            "[117703 rows x 2 columns]\n"
          ],
          "name": "stdout"
        }
      ]
    }
  ]
}